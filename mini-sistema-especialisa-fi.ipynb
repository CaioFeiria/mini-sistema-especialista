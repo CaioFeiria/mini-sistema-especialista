{
  "nbformat": 4,
  "nbformat_minor": 0,
  "metadata": {
    "colab": {
      "provenance": [],
      "include_colab_link": true
    },
    "kernelspec": {
      "name": "python3",
      "display_name": "Python 3"
    },
    "language_info": {
      "name": "python"
    }
  },
  "cells": [
    {
      "cell_type": "markdown",
      "metadata": {
        "id": "view-in-github",
        "colab_type": "text"
      },
      "source": [
        "<a href=\"https://colab.research.google.com/github/CaioFeiria/mini-sistema-especialista/blob/main/mini-sistema-especialisa-fi.ipynb\" target=\"_parent\"><img src=\"https://colab.research.google.com/assets/colab-badge.svg\" alt=\"Open In Colab\"/></a>"
      ]
    },
    {
      "cell_type": "code",
      "execution_count": 7,
      "metadata": {
        "id": "CjH8A5DYeI9I"
      },
      "outputs": [],
      "source": [
        "# Base de Conhecimento\n",
        "fis = [\n",
        "    {\"FI\": \"MXRF11\", \"Tipo de fundo\": \"Papel\", \"Base\": \"10\"},\n",
        "    {\"FI\": \"VGHF11\", \"Tipo de fundo\": \"Papel\", \"Base\": \"10\"},\n",
        "    {\"FI\": \"RURA11\", \"Tipo de fundo\": \"Agro\", \"Base\": \"10\"},\n",
        "    {\"FI\": \"HGLG11\", \"Tipo de fundo\": \"Tijolo\", \"Base\": \"100\"},\n",
        "    {\"FI\": \"LVBI11\", \"Tipo de fundo\": \"Tijolo\", \"Base\": \"100\"},\n",
        "    {\"FI\": \"GGRC11\", \"Tipo de fundo\": \"Tijolo\", \"Base\": \"10\"},\n",
        "    {\"FI\": \"HFOF11\", \"Tipo de fundo\": \"Fundo de fundos\", \"Base\": \"10\"},\n",
        "    {\"FI\": \"TGAR11\", \"Tipo de fundo\": \"Fundo de desenvolvimento\", \"Base\": \"100\"},\n",
        "    # Adicione mais fundos imobiliarios conforme necessário\n",
        "]\n",
        "\n",
        "# Regras de Recomendação\n",
        "regras = [\n",
        "    {\"Condição\": {\"Tipo de fundo\": \"Papel\", \"Base\": \"10\"}, \"Recomendação\": [\"MXRF11\",\"VGHF11\"]},\n",
        "    {\"Condição\": {\"Tipo de fundo\": \"Agro\", \"Base\": \"\"}, \"Recomendação\": [\"RURA11\"]},\n",
        "    {\"Condição\": {\"Tipo de fundo\": \"Agro\", \"Base\": \"10\"}, \"Recomendação\": [\"RURA11\"]},\n",
        "    {\"Condição\": {\"Tipo de fundo\": \"Tijolo\", \"Base\": \"10\"}, \"Recomendação\": [\"GGRC11\"]},\n",
        "    {\"Condição\": {\"Tipo de fundo\": \"Tijolo\", \"Base\": \"100\"}, \"Recomendação\": [\"HGLG11\", \"LVBI11\"]},\n",
        "    {\"Condição\": {\"Tipo de fundo\": \"Tijolo\", \"Base\": \"\"}, \"Recomendação\": [\"HGLG11\", \"LVBI11\", \"GGRC11\"]},\n",
        "    {\"Condição\": {\"Tipo de fundo\": \"Fundo de fundos\", \"Base\": \"10\"}, \"Recomendação\": [\"HFOF11\"]},\n",
        "    {\"Condição\": {\"Tipo de fundo\": \"Fundo de desenvolvimento\", \"Base\": \"100\"}, \"Recomendação\": [\"TGAR11\"]},\n",
        "    # Adicione mais regras conforme necessário\n",
        "]\n"
      ]
    },
    {
      "cell_type": "code",
      "source": [
        "def recomendar_fi(preferencias):\n",
        "    recomendacoes = []\n",
        "    for regra in regras:\n",
        "        condicao = regra[\"Condição\"]\n",
        "        if (preferencias[\"Tipo de fundo\"] == condicao[\"Tipo de fundo\"] and\n",
        "                preferencias[\"Base\"] == condicao[\"Base\"]):\n",
        "            recomendacoes.extend(regra[\"Recomendação\"])\n",
        "    return recomendacoes\n"
      ],
      "metadata": {
        "id": "paQFjmBAen9M"
      },
      "execution_count": 2,
      "outputs": []
    },
    {
      "cell_type": "code",
      "source": [
        "def main():\n",
        "    # Coletar preferências do usuário\n",
        "    tipo_de_fundo = input(\"Qual é o tipo de FI que você prefere? \")\n",
        "    base = input(\"Qual é a base que deseja? \")\n",
        "\n",
        "    preferencias = {\n",
        "        \"Tipo de fundo\": tipo_de_fundo,\n",
        "        \"Base\": base\n",
        "    }\n",
        "\n",
        "    # Obter recomendações\n",
        "    fis_recomendados = recomendar_fi(preferencias)\n",
        "\n",
        "    # Mostrar recomendações\n",
        "    if fis_recomendados:\n",
        "        print(\"FI's Recomendados:\")\n",
        "        for fi in fis_recomendados:\n",
        "            print(f\"- {fi}\")\n",
        "    else:\n",
        "        print(\"Nenhuma recomendação disponível para suas preferências.\")\n",
        "\n",
        "if __name__ == \"__main__\":\n",
        "    main()\n"
      ],
      "metadata": {
        "colab": {
          "base_uri": "https://localhost:8080/"
        },
        "id": "VVGk2FB3er-3",
        "outputId": "8f30d9d0-6640-477f-f88f-a75288755e6d"
      },
      "execution_count": 12,
      "outputs": [
        {
          "output_type": "stream",
          "name": "stdout",
          "text": [
            "Qual é o tipo de FI que você prefere? Fundo de desenvolvimento\n",
            "Qual é a base que deseja? \n",
            "Nenhuma recomendação disponível para suas preferências.\n"
          ]
        }
      ]
    }
  ]
}